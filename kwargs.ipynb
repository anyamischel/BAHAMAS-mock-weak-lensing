{
 "cells": [
  {
   "cell_type": "code",
   "execution_count": 1,
   "id": "906752e2-cd00-438a-a50d-bcd7e270fa7f",
   "metadata": {},
   "outputs": [],
   "source": [
    "dd = {'x':5, 'y':7}"
   ]
  },
  {
   "cell_type": "code",
   "execution_count": 2,
   "id": "2458ae72-3868-4222-a551-6919f4ef365b",
   "metadata": {},
   "outputs": [
    {
     "data": {
      "text/plain": [
       "5"
      ]
     },
     "execution_count": 2,
     "metadata": {},
     "output_type": "execute_result"
    }
   ],
   "source": [
    "dd['x']"
   ]
  },
  {
   "cell_type": "code",
   "execution_count": 4,
   "id": "7992488c-a652-48c9-8c67-b4bfb0ea53da",
   "metadata": {},
   "outputs": [
    {
     "data": {
      "text/plain": [
       "7"
      ]
     },
     "execution_count": 4,
     "metadata": {},
     "output_type": "execute_result"
    }
   ],
   "source": [
    "dd['y']"
   ]
  },
  {
   "cell_type": "code",
   "execution_count": 5,
   "id": "6544b70e-c1ca-4255-9af2-e10f22a2ee89",
   "metadata": {},
   "outputs": [],
   "source": [
    "dd = {'cmap':'inferno', 'vmin':-3}"
   ]
  },
  {
   "cell_type": "code",
   "execution_count": 7,
   "id": "7ee7a065-71d9-4092-a1ab-c8b0b2345552",
   "metadata": {},
   "outputs": [
    {
     "data": {
      "text/plain": [
       "dict_keys(['cmap', 'vmin'])"
      ]
     },
     "execution_count": 7,
     "metadata": {},
     "output_type": "execute_result"
    }
   ],
   "source": [
    "dd.keys()"
   ]
  },
  {
   "cell_type": "code",
   "execution_count": null,
   "id": "ef0dd107-cb99-4042-b230-acf71d7106ea",
   "metadata": {},
   "outputs": [],
   "source": [
    "plt.imshow(convergence, **dd)\n",
    "plt.imshow(convergence, cmap='inferno', vmin=-3)"
   ]
  },
  {
   "cell_type": "code",
   "execution_count": null,
   "id": "b93dd7fa-c0db-44d0-b08e-0c284d03611b",
   "metadata": {},
   "outputs": [],
   "source": [
    "multiple_custom_plots(x, y, ax=None, plt_kwargs={'cmap':'inferno', 'vmin':-3}, sct_kwargs={})"
   ]
  }
 ],
 "metadata": {
  "kernelspec": {
   "display_name": "Python 3 (ipykernel)",
   "language": "python",
   "name": "python3"
  },
  "language_info": {
   "codemirror_mode": {
    "name": "ipython",
    "version": 3
   },
   "file_extension": ".py",
   "mimetype": "text/x-python",
   "name": "python",
   "nbconvert_exporter": "python",
   "pygments_lexer": "ipython3",
   "version": "3.10.9"
  }
 },
 "nbformat": 4,
 "nbformat_minor": 5
}
